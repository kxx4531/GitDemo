{
 "cells": [
  {
   "cell_type": "code",
   "execution_count": 2,
   "metadata": {
    "colab": {
     "base_uri": "https://localhost:8080/"
    },
    "id": "VZgBUgDI5tGa",
    "outputId": "1d595638-6d44-4cf6-cd91-f11dd73cfc0d"
   },
   "outputs": [
    {
     "name": "stderr",
     "output_type": "stream",
     "text": [
      "Some weights of BertForSequenceClassification were not initialized from the model checkpoint at bert-base-chinese and are newly initialized: ['classifier.bias', 'classifier.weight']\n",
      "You should probably TRAIN this model on a down-stream task to be able to use it for predictions and inference.\n"
     ]
    },
    {
     "name": "stdout",
     "output_type": "stream",
     "text": [
      "影评情感倾向：正面\n",
      "外卖评价情感倾向：正面\n"
     ]
    }
   ],
   "source": [
    "from transformers import BertTokenizer, BertForSequenceClassification\n",
    "import torch\n",
    "\n",
    "# 根据学号选取的句子\n",
    "movie_review = \"导演功力深厚，镜头语言非常有张力，每一帧都值得回味。\"\n",
    "food_review = \"食物完全凉了，吃起来像隔夜饭，体验极差。\"\n",
    "\n",
    "# 加载预训练模型和分词器\n",
    "model_name = \"bert-base-chinese\"\n",
    "tokenizer = BertTokenizer.from_pretrained(model_name)\n",
    "model = BertForSequenceClassification.from_pretrained(model_name, num_labels=2)\n",
    "\n",
    "# 情感标签映射\n",
    "label_map = {0: \"负面\", 1: \"正面\"}\n",
    "\n",
    "\n",
    "def predict_sentiment(text):\n",
    "    # 文本编码\n",
    "    inputs = tokenizer(\n",
    "        text,\n",
    "        padding=True,\n",
    "        truncation=True,\n",
    "        max_length=128,\n",
    "        return_tensors=\"pt\"\n",
    "    )\n",
    "\n",
    "    # 模型预测\n",
    "    with torch.no_grad():\n",
    "        outputs = model(**inputs)\n",
    "\n",
    "    # 获取预测结果\n",
    "    logits = outputs.logits\n",
    "    probabilities = torch.softmax(logits, dim=1)\n",
    "    predicted_label = torch.argmax(probabilities, dim=1).item()\n",
    "\n",
    "    return label_map[predicted_label]\n",
    "\n",
    "\n",
    "# 执行预测\n",
    "movie_sentiment = predict_sentiment(movie_review)\n",
    "food_sentiment = predict_sentiment(food_review)\n",
    "\n",
    "# 输出结果\n",
    "print(f\"影评情感倾向：{movie_sentiment}\")\n",
    "print(f\"外卖评价情感倾向：{food_sentiment}\")"
   ]
  },
  {
   "cell_type": "code",
   "execution_count": null,
   "metadata": {
    "id": "ykVDkoXm7eHT"
   },
   "outputs": [],
   "source": []
  }
 ],
 "metadata": {
  "colab": {
   "provenance": []
  },
  "kernelspec": {
   "display_name": "Python 3",
   "language": "python",
   "name": "python3"
  },
  "language_info": {
   "codemirror_mode": {
    "name": "ipython",
    "version": 3
   },
   "file_extension": ".py",
   "mimetype": "text/x-python",
   "name": "python",
   "nbconvert_exporter": "python",
   "pygments_lexer": "ipython3",
   "version": "3.8.3"
  }
 },
 "nbformat": 4,
 "nbformat_minor": 1
}
