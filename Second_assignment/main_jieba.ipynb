{
 "cells": [
  {
   "cell_type": "markdown",
   "metadata": {},
   "source": [
    "# 结巴分词实践"
   ]
  },
  {
   "cell_type": "code",
   "execution_count": 2,
   "metadata": {},
   "outputs": [
    {
     "name": "stdout",
     "output_type": "stream",
     "text": [
      "我要|机器|学习\n"
     ]
    }
   ],
   "source": [
    "import jieba\n",
    "text = \"我要机器学习\"\n",
    "seg_list = jieba.cut(text)\n",
    "print(\"|\".join(seg_list))"
   ]
  },
  {
   "cell_type": "markdown",
   "metadata": {},
   "source": [
    "## 结巴分词的三种模式"
   ]
  },
  {
   "cell_type": "code",
   "execution_count": 3,
   "metadata": {},
   "outputs": [
    {
     "name": "stdout",
     "output_type": "stream",
     "text": [
      "黄宇轩|正在|研究|机器学习\n"
     ]
    }
   ],
   "source": [
    "import jieba\n",
    "\n",
    "# 加载自定义词典（确保路径正确！）\n",
    "jieba.load_userdict(\"userdict.txt\")  # 若文件在其他路径，需写绝对路径如 \"./data/userdict.txt\"\n",
    "\n",
    "# 测试分词\n",
    "text = \"黄宇轩正在研究机器学习\"\n",
    "seg_list = jieba.cut(text)\n",
    "print(\"|\".join(seg_list))"
   ]
  },
  {
   "cell_type": "markdown",
   "metadata": {},
   "source": [
    "### 精确模式"
   ]
  },
  {
   "cell_type": "code",
   "execution_count": 4,
   "metadata": {
    "scrolled": true
   },
   "outputs": [
    {
     "name": "stdout",
     "output_type": "stream",
     "text": [
      "精确模式分词结果： 我|喜欢|上|机器学习\n"
     ]
    }
   ],
   "source": [
    "\n",
    "import jieba\n",
    "\n",
    "# 精确模式（默认模式）\n",
    "text = \"我喜欢上机器学习\"\n",
    "seg_list = jieba.cut(text, cut_all=False)\n",
    "print(\"精确模式分词结果：\", \"|\".join(seg_list))"
   ]
  },
  {
   "cell_type": "markdown",
   "metadata": {},
   "source": [
    "###  全模式"
   ]
  },
  {
   "cell_type": "code",
   "execution_count": 5,
   "metadata": {},
   "outputs": [
    {
     "name": "stdout",
     "output_type": "stream",
     "text": [
      "全模式分词结果： 我|喜欢|上机|机器|机器学习|学习\n"
     ]
    }
   ],
   "source": [
    "# 全模式（切出所有可能词语）\n",
    "text = \"我喜欢上机器学习\"\n",
    "seg_list = jieba.cut(text, cut_all=True)\n",
    "print(\"全模式分词结果：\", \"|\".join(seg_list))"
   ]
  },
  {
   "cell_type": "markdown",
   "metadata": {},
   "source": [
    "搜索引擎模式"
   ]
  },
  {
   "cell_type": "code",
   "execution_count": 6,
   "metadata": {},
   "outputs": [
    {
     "name": "stdout",
     "output_type": "stream",
     "text": [
      "搜索引擎模式分词结果： 小明|硕士|毕业|于|广州|城市|理工|工大|大学|理工大|理工大学|，|后|在|华南|理工|工大|大学|南理工|理工大|华南理工大学|深造\n"
     ]
    }
   ],
   "source": [
    "# 搜索引擎模式（对长词再切分）\n",
    "text = \"小明硕士毕业于广州城市理工大学，后在华南理工大学深造\"\n",
    "seg_list = jieba.cut_for_search(text)\n",
    "print(\"搜索引擎模式分词结果：\", \"|\".join(seg_list))"
   ]
  },
  {
   "cell_type": "markdown",
   "metadata": {},
   "source": [
    "### 载入词典"
   ]
  },
  {
   "cell_type": "code",
   "execution_count": 7,
   "metadata": {},
   "outputs": [
    {
     "name": "stdout",
     "output_type": "stream",
     "text": [
      "分词结果： 黄宇轩|即将|是|自然语言|处理|方面|的|高手|。\n"
     ]
    }
   ],
   "source": [
    "import jieba\n",
    "\n",
    "# 动态添加用户姓名到词典（替换\"***\"为你的真实姓名）\n",
    "your_name = \"黄宇轩\"  # 示例姓名，请修改为你的真实姓名\n",
    "jieba.add_word(your_name, freq=10000, tag='nr')  # 高频确保优先切分\n",
    "\n",
    "# 使用精确模式且关闭HMM新词发现\n",
    "sentence = f\"{your_name}即将是自然语言处理方面的高手。\"\n",
    "seg_list = jieba.cut(sentence, HMM=False)\n",
    "\n",
    "print(\"分词结果：\", \"|\".join(seg_list))"
   ]
  },
  {
   "cell_type": "markdown",
   "metadata": {},
   "source": [
    "\n",
    "关键词提取实践"
   ]
  },
  {
   "cell_type": "code",
   "execution_count": 8,
   "metadata": {},
   "outputs": [
    {
     "name": "stdout",
     "output_type": "stream",
     "text": [
      "Top-5关键词： ['重点', '大学', '国家', '河北省', '共建']\n"
     ]
    }
   ],
   "source": [
    "import jieba.analyse\n",
    "\n",
    "# 原始文本\n",
    "text = \"燕山大学是河北省人民政府、教育部、工业和信息化部、国家国防科技工业局四方共建的全国重点大学，河北省重点支持的国家一流大学和世界一流学科建设高校，北京高科大学联盟成员。\"\n",
    "\n",
    "# 使用TextRank算法提取top5关键词（不显示权重）\n",
    "keywords = jieba.analyse.textrank(text, topK=5, withWeight=False)\n",
    "\n",
    "print(\"Top-5关键词：\", keywords)"
   ]
  }
 ],
 "metadata": {
  "kernelspec": {
   "display_name": "Python 3",
   "language": "python",
   "name": "python3"
  },
  "language_info": {
   "codemirror_mode": {
    "name": "ipython",
    "version": 3
   },
   "file_extension": ".py",
   "mimetype": "text/x-python",
   "name": "python",
   "nbconvert_exporter": "python",
   "pygments_lexer": "ipython3",
   "version": "3.8.3"
  }
 },
 "nbformat": 4,
 "nbformat_minor": 4
}
